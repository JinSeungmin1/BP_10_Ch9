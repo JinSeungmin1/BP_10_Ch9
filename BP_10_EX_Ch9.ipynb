{
  "nbformat": 4,
  "nbformat_minor": 0,
  "metadata": {
    "colab": {
      "provenance": [],
      "authorship_tag": "ABX9TyPYnoCcFuHt3nMKBRKSeGht",
      "include_colab_link": true
    },
    "kernelspec": {
      "name": "python3",
      "display_name": "Python 3"
    },
    "language_info": {
      "name": "python"
    }
  },
  "cells": [
    {
      "cell_type": "markdown",
      "metadata": {
        "id": "view-in-github",
        "colab_type": "text"
      },
      "source": [
        "<a href=\"https://colab.research.google.com/github/JinSeungmin1/BP_10_Ch9/blob/main/BP_10_EX_Ch9.ipynb\" target=\"_parent\"><img src=\"https://colab.research.google.com/assets/colab-badge.svg\" alt=\"Open In Colab\"/></a>"
      ]
    },
    {
      "cell_type": "code",
      "execution_count": 1,
      "metadata": {
        "colab": {
          "base_uri": "https://localhost:8080/"
        },
        "id": "PRwoYliINUM5",
        "outputId": "5e9ca410-0f2b-4abd-9b47-75d7f43a1894"
      },
      "outputs": [
        {
          "output_type": "stream",
          "name": "stdout",
          "text": [
            "정수를 입력하시오: 10\n",
            "정수를 입력하시오: 20\n",
            "정수를 입력하시오: 30\n",
            "정수를 입력하시오: 40\n",
            "정수를 입력하시오: 50\n",
            "평균= 30.0\n"
          ]
        }
      ],
      "source": [
        "alist = []\n",
        "sum = 0\n",
        "for i in range(5):     # 평균을 내는 값의 범위\n",
        " i = int(input(\"정수를 입력하시오: \"))\n",
        " alist.append(i)\n",
        "for i in alist:\n",
        " sum += i\n",
        "avg = sum/len(alist)\n",
        "print(\"평균=\", avg)3"
      ]
    },
    {
      "cell_type": "code",
      "source": [
        "import random\n",
        "counters = [0, 0, 0, 0, 0, 0]    # 주사위값이 나오는 빈도\n",
        "for i in range(1000):\n",
        " value = random.randint(0, 5)\n",
        " counters[value] = counters[value] + 1 # 주사위값을 증가시키는 요소\n",
        "\n",
        "for i in range(6) :\n",
        " print(\"주사위가 \", i+1, \"인 경우는 \", counters[i], \"번\")"
      ],
      "metadata": {
        "colab": {
          "base_uri": "https://localhost:8080/"
        },
        "id": "klcHr5pPOKgA",
        "outputId": "c185d155-208f-4db6-e64b-cb90b850126b"
      },
      "execution_count": 2,
      "outputs": [
        {
          "output_type": "stream",
          "name": "stdout",
          "text": [
            "주사위가  1 인 경우는  167 번\n",
            "주사위가  2 인 경우는  165 번\n",
            "주사위가  3 인 경우는  161 번\n",
            "주사위가  4 인 경우는  167 번\n",
            "주사위가  5 인 경우는  183 번\n",
            "주사위가  6 인 경우는  157 번\n"
          ]
        }
      ]
    },
    {
      "cell_type": "code",
      "source": [
        "contacts = {}\n",
        "while True:\n",
        "    name = input(\"(입력모드)이름을 입력하시오: \") # 이름을 입력\n",
        "    if not name:\n",
        "        break;\n",
        "    tel = input(\"전화번호를 입력하시오: \") # 이름에 검색될 전화번호 입력\n",
        "    contacts[name] = tel\n",
        "while True:\n",
        "    search = input(\"(검색모드)이름을 입력하시오: \") #이름을 통해 전화번호를 검색\n",
        "    print(\"%s 의 전화번호는 %s 입니다.\"%(search, contacts[search]))\n",
        "    if not search:\n",
        "        break;\n"
      ],
      "metadata": {
        "colab": {
          "base_uri": "https://localhost:8080/"
        },
        "id": "lejxJBKgPRL4",
        "outputId": "b4a30e4f-0d57-4ef1-f777-758fe30befd7"
      },
      "execution_count": null,
      "outputs": [
        {
          "output_type": "stream",
          "name": "stdout",
          "text": [
            "(입력모드)이름을 입력하시오: 홍길동\n",
            "전화번호를 입력하시오: 111-2222\n",
            "(입력모드)이름을 입력하시오: 김철수\n",
            "전화번호를 입력하시오: 222-3333\n",
            "(입력모드)이름을 입력하시오: \n",
            "(검색모드)이름을 입력하시오: 홍길동\n",
            "홍길동 의 전화번호는 111-2222 입니다.\n",
            "(검색모드)이름을 입력하시오: 김철수\n",
            "김철수 의 전화번호는 222-3333 입니다.\n"
          ]
        }
      ]
    },
    {
      "cell_type": "code",
      "source": [
        "domain={\"kr\":\"대한민국\",\"sk\":\"슬로바키아\",\"no\":\"노르웨이\",\"us\":\"미국\",\"jp\":\"일본\",\"de\":\"독일\"}\n",
        "for k,v in domain.items(): # 딕셔너리의 키와 값을 모두 꺼내서 출력\n",
        "    print(k,\":\",v)"
      ],
      "metadata": {
        "colab": {
          "base_uri": "https://localhost:8080/"
        },
        "id": "dmoolHUWQ7S1",
        "outputId": "adbbc473-b3e1-42f2-9a17-eb056f29aa93"
      },
      "execution_count": 34,
      "outputs": [
        {
          "output_type": "stream",
          "name": "stdout",
          "text": [
            "kr : 대한민국\n",
            "sk : 슬로바키아\n",
            "no : 노르웨이\n",
            "us : 미국\n",
            "jp : 일본\n",
            "de : 독일\n"
          ]
        }
      ]
    },
    {
      "cell_type": "code",
      "source": [
        "problems = {\"파이썬\": \"최근에 가장 떠오르는 프로그래밍 언어\",            # 문제의 보기\n",
        "            \"변수\": \"데이터를 저장하는 메모리 공간\",                     # 문제의 보기\n",
        "            \"함수\": \"작업을 수행하는 문장들의 집합에 이름을 붙인 것\",    # 문제의 보기\n",
        "            \"리스트\": \"서로 관련이 없는 항목들의 모임\"}                  # 문제의 보기\n",
        "for word in problems.keys():\n",
        "    print(\"다음은 어떤 단어에 대한 설명일까요?\")                        # 문제 \n",
        "    print(problems[word])\n",
        "    print(\"(1)파이썬 (2)함수 (3)리스트 (4)변수\")\n",
        "    answer = input(\"정답(문자만 입력할 것): \")                          # 정답 입력\n",
        "    if answer == word:\n",
        "        print(\"정답입니다!\")     # 정답일 경우\n",
        "    else:\n",
        "        print(\"정답이 아닙니다.\")    # 정답이 아닐경우"
      ],
      "metadata": {
        "colab": {
          "base_uri": "https://localhost:8080/"
        },
        "id": "yys9xT1iSkHF",
        "outputId": "43b21d6f-ec03-461d-a6a0-886558835e62"
      },
      "execution_count": 46,
      "outputs": [
        {
          "output_type": "stream",
          "name": "stdout",
          "text": [
            "다음은 어떤 단어에 대한 설명일까요?\n",
            "최근에 가장 떠오르는 프로그래밍 언어\n",
            "(1)파이썬 (2)함수 (3)리스트 (4)변수\n",
            "정답(문자만 입력할 것): 파이썬\n",
            "정답입니다!\n",
            "다음은 어떤 단어에 대한 설명일까요?\n",
            "데이터를 저장하는 메모리 공간\n",
            "(1)파이썬 (2)함수 (3)리스트 (4)변수\n",
            "정답(문자만 입력할 것): 변수\n",
            "정답입니다!\n",
            "다음은 어떤 단어에 대한 설명일까요?\n",
            "작업을 수행하는 문장들의 집합에 이름을 붙인 것\n",
            "(1)파이썬 (2)함수 (3)리스트 (4)변수\n",
            "정답(문자만 입력할 것): 함수\n",
            "정답입니다!\n",
            "다음은 어떤 단어에 대한 설명일까요?\n",
            "서로 관련이 없는 항목들의 모임\n",
            "(1)파이썬 (2)함수 (3)리스트 (4)변수\n",
            "정답(문자만 입력할 것): 리스트\n",
            "정답입니다!\n"
          ]
        }
      ]
    }
  ]
}